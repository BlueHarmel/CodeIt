{
 "cells": [
  {
   "cell_type": "code",
   "execution_count": 6,
   "metadata": {},
   "outputs": [
    {
     "name": "stdout",
     "output_type": "stream",
     "text": [
      "6\n",
      "5\n",
      "[1, 2, 3, 4]\n",
      "[3, 4, 5, 6]\n",
      "[1, 2, 3]\n",
      "3\n"
     ]
    },
    {
     "ename": "IndexError",
     "evalue": "list index out of range",
     "output_type": "error",
     "traceback": [
      "\u001b[1;31m---------------------------------------------------------------------------\u001b[0m",
      "\u001b[1;31mIndexError\u001b[0m                                Traceback (most recent call last)",
      "\u001b[1;32m<ipython-input-6-761c3534d77f>\u001b[0m in \u001b[0;36m<module>\u001b[1;34m\u001b[0m\n\u001b[0;32m      9\u001b[0m \u001b[0mnumbers\u001b[0m\u001b[1;33m[\u001b[0m\u001b[1;36m0\u001b[0m\u001b[1;33m]\u001b[0m \u001b[1;33m=\u001b[0m \u001b[0mnumbers\u001b[0m\u001b[1;33m[\u001b[0m\u001b[1;36m0\u001b[0m\u001b[1;33m]\u001b[0m \u001b[1;33m+\u001b[0m \u001b[0mnumbers\u001b[0m\u001b[1;33m[\u001b[0m\u001b[1;36m1\u001b[0m\u001b[1;33m]\u001b[0m\u001b[1;33m\u001b[0m\u001b[1;33m\u001b[0m\u001b[0m\n\u001b[0;32m     10\u001b[0m \u001b[0mprint\u001b[0m\u001b[1;33m(\u001b[0m\u001b[0mnumbers\u001b[0m\u001b[1;33m[\u001b[0m\u001b[1;36m0\u001b[0m\u001b[1;33m]\u001b[0m\u001b[1;33m)\u001b[0m\u001b[1;33m\u001b[0m\u001b[1;33m\u001b[0m\u001b[0m\n\u001b[1;32m---> 11\u001b[1;33m \u001b[0mprint\u001b[0m\u001b[1;33m(\u001b[0m\u001b[0mnumbers\u001b[0m\u001b[1;33m[\u001b[0m\u001b[1;33m-\u001b[0m\u001b[1;36m7\u001b[0m\u001b[1;33m]\u001b[0m\u001b[1;33m)\u001b[0m\u001b[1;33m\u001b[0m\u001b[1;33m\u001b[0m\u001b[0m\n\u001b[0m",
      "\u001b[1;31mIndexError\u001b[0m: list index out of range"
     ]
    }
   ],
   "source": [
    "numbers = [1, 2, 3, 4, 5, 6]\n",
    "names = [\"윤수\", \"혜린\", \"태호\", \"영훈\"]\n",
    "\n",
    "print(numbers[-1])\n",
    "print(numbers[-2])\n",
    "print(numbers[0:4])\n",
    "print(numbers[2:])\n",
    "print(numbers[:3])\n",
    "numbers[0] = numbers[0] + numbers[1]\n",
    "print(numbers[0])\n",
    "print(numbers[-7])"
   ]
  },
  {
   "cell_type": "code",
   "execution_count": 7,
   "metadata": {},
   "outputs": [
    {
     "name": "stdout",
     "output_type": "stream",
     "text": [
      "0\n",
      "[5]\n",
      "[5, 8]\n",
      "2\n"
     ]
    }
   ],
   "source": [
    "numbers = []\n",
    "print(len(numbers))\n",
    "numbers.append(5)\n",
    "print(numbers)\n",
    "numbers.append(8)\n",
    "print(numbers)\n",
    "print(len(numbers))"
   ]
  },
  {
   "cell_type": "code",
   "execution_count": 8,
   "metadata": {},
   "outputs": [
    {
     "name": "stdout",
     "output_type": "stream",
     "text": [
      "[1, 2, 3, 5, 6, 7, 8]\n"
     ]
    }
   ],
   "source": [
    "numbers = [1, 2, 3, 4, 5, 6, 7, 8]\n",
    "\n",
    "del numbers[3]\n",
    "print(numbers)"
   ]
  },
  {
   "cell_type": "code",
   "execution_count": 10,
   "metadata": {},
   "outputs": [
    {
     "name": "stdout",
     "output_type": "stream",
     "text": [
      "[1, 2, 3, 5, 6, 0, 0, 7, 8]\n"
     ]
    }
   ],
   "source": [
    "numbers.insert(5,0)\n",
    "print(numbers)"
   ]
  },
  {
   "cell_type": "code",
   "execution_count": 11,
   "metadata": {},
   "outputs": [
    {
     "name": "stdout",
     "output_type": "stream",
     "text": [
      "[0, 0, 1, 2, 3, 5, 6, 7, 8]\n"
     ]
    }
   ],
   "source": [
    "print(sorted(numbers))"
   ]
  },
  {
   "cell_type": "code",
   "execution_count": 12,
   "metadata": {},
   "outputs": [
    {
     "ename": "SyntaxError",
     "evalue": "invalid syntax (<ipython-input-12-2e9120b6c64b>, line 14)",
     "output_type": "error",
     "traceback": [
      "\u001b[1;36m  File \u001b[1;32m\"<ipython-input-12-2e9120b6c64b>\"\u001b[1;36m, line \u001b[1;32m14\u001b[0m\n\u001b[1;33m    for (num < len(sample_temperature_list)):\u001b[0m\n\u001b[1;37m                                            ^\u001b[0m\n\u001b[1;31mSyntaxError\u001b[0m\u001b[1;31m:\u001b[0m invalid syntax\n"
     ]
    }
   ],
   "source": [
    "# 화씨 온도에서 섭씨 온도로 바꿔주는 함수\n",
    "def fahrenheit_to_celsius(fahrenheit):\n",
    "    # 코드를 입력하세요.\n",
    "\treturn (fahrenheit - 32) * 5 / 9\n",
    "# 테스트용 온도 리스트\n",
    "sample_temperature_list = [40, 15, 32, 64, -4, 11]\n",
    "\n",
    "# 화씨 온도 출력\n",
    "print(\"화씨 온도 리스트: \" + str(sample_temperature_list))\n",
    "\n",
    "# 리스트의 값들을 화씨에서 섭씨로 변환\n",
    "# 코드를 입력하세요.\n",
    "num = 0\n",
    "for (num < len(sample_temperature_list)):\n",
    "    sample_temperature_list[num] = fahrenheit_to_celsius(sample_temperature_list[num])\n",
    "\tnum += 1\n",
    "# 섭씨 온도 출력\n",
    "print(\"섭씨 온도 리스트: \" + str(sample_temperature_list))"
   ]
  },
  {
   "cell_type": "code",
   "execution_count": 13,
   "metadata": {},
   "outputs": [
    {
     "name": "stdout",
     "output_type": "stream",
     "text": [
      "한국 화폐: [1000, 2000, 3000, 5000, 8000, 13000, 21000, 34000]\n",
      "미국 화폐: [1.0, 2.0, 3.0, 5.0, 8.0, 13.0, 21.0, 34.0]\n"
     ]
    },
    {
     "ename": "NameError",
     "evalue": "name 'kusd_to_jpy' is not defined",
     "output_type": "error",
     "traceback": [
      "\u001b[1;31m---------------------------------------------------------------------------\u001b[0m",
      "\u001b[1;31mNameError\u001b[0m                                 Traceback (most recent call last)",
      "\u001b[1;32m<ipython-input-13-f34379c23c40>\u001b[0m in \u001b[0;36m<module>\u001b[1;34m\u001b[0m\n\u001b[0;32m     24\u001b[0m \u001b[0mnum\u001b[0m \u001b[1;33m=\u001b[0m \u001b[1;36m0\u001b[0m\u001b[1;33m\u001b[0m\u001b[1;33m\u001b[0m\u001b[0m\n\u001b[0;32m     25\u001b[0m \u001b[1;32mwhile\u001b[0m \u001b[0mnum\u001b[0m \u001b[1;33m<\u001b[0m \u001b[0mlen\u001b[0m\u001b[1;33m(\u001b[0m\u001b[0mamounts\u001b[0m\u001b[1;33m)\u001b[0m\u001b[1;33m:\u001b[0m\u001b[1;33m\u001b[0m\u001b[1;33m\u001b[0m\u001b[0m\n\u001b[1;32m---> 26\u001b[1;33m     \u001b[0mamounts\u001b[0m\u001b[1;33m[\u001b[0m\u001b[0mnum\u001b[0m\u001b[1;33m]\u001b[0m \u001b[1;33m=\u001b[0m \u001b[0mkusd_to_jpy\u001b[0m\u001b[1;33m(\u001b[0m\u001b[0mamounts\u001b[0m\u001b[1;33m[\u001b[0m\u001b[0mnum\u001b[0m\u001b[1;33m]\u001b[0m\u001b[1;33m)\u001b[0m\u001b[1;33m\u001b[0m\u001b[1;33m\u001b[0m\u001b[0m\n\u001b[0m\u001b[0;32m     27\u001b[0m     \u001b[0mnum\u001b[0m \u001b[1;33m+=\u001b[0m \u001b[1;36m1\u001b[0m\u001b[1;33m\u001b[0m\u001b[1;33m\u001b[0m\u001b[0m\n\u001b[0;32m     28\u001b[0m \u001b[1;31m# 엔(￥)으로 각각 얼마인가요?\u001b[0m\u001b[1;33m\u001b[0m\u001b[1;33m\u001b[0m\u001b[1;33m\u001b[0m\u001b[0m\n",
      "\u001b[1;31mNameError\u001b[0m: name 'kusd_to_jpy' is not defined"
     ]
    }
   ],
   "source": [
    "# 원(￦)에서 달러($)로 바꿔주는 함수\n",
    "def krw_to_usd(won):\n",
    "    # 코드를 입력하세요.\n",
    "\treturn won/1000\n",
    "# 달러($)에서 엔(￥)로 바꿔주는 함수\n",
    "def usd_to_jpy(dollars):\n",
    "    # 코드를 입력하세요.\n",
    "\treturn dollars/(1000/8)\n",
    "# 원(￦)으로 각각 얼마인가요?\n",
    "amounts = [1000, 2000, 3000, 5000, 8000, 13000, 21000, 34000]\n",
    "print(\"한국 화폐: \" + str(amounts))\n",
    " \n",
    "# amounts를 원(￦)에서 달러($)로 바꿔주기\n",
    "# 코드를 입력하세요.\n",
    "num = 0\n",
    "while num < len(amounts):\n",
    "    amounts[num] = krw_to_usd(amounts[num])\n",
    "    num +=1\n",
    "# 달러($)로 각각 얼마인가요?\n",
    "print(\"미국 화폐: \" + str(amounts))\n",
    "\n",
    "# amounts를 달러($)에서 엔(￥)으로 바꿔주기\n",
    "# 코드를 입력하세요.\n",
    "num = 0\n",
    "while num < len(amounts):\n",
    "    amounts[num] = kusd_to_jpy(amounts[num])\n",
    "    num += 1\n",
    "# 엔(￥)으로 각각 얼마인가요?\n",
    "print(\"일본 화폐: \" + str(amounts))"
   ]
  },
  {
   "cell_type": "code",
   "execution_count": null,
   "metadata": {},
   "outputs": [],
   "source": [
    "i = 0\n",
    "while i < 10:\n",
    "    if numbers[i] % 2 != 0:\n",
    "        del numbers[i]\n",
    "    i += 1\n",
    "print(numbers)"
   ]
  },
  {
   "cell_type": "code",
   "execution_count": null,
   "metadata": {},
   "outputs": [],
   "source": [
    "from random import randint\n",
    "i = 1\n",
    "test = []\n",
    "cnt = 0\n",
    "\n",
    "#컴퓨터가 숫자를 뽑는 코드\n",
    "test.append(randint(0,9))\n",
    "while True:\n",
    "    if i == 3:\n",
    "        break\n",
    "    temp = randint(0,9)\n",
    "    if temp != test[i-1]:\n",
    "        test.append(temp)\n",
    "        i += 1\n",
    "    else:\n",
    "        continue\n",
    "\n",
    "print(\"0과 9 사이의 서로다른 세 숫자를 랜덤한 순서로 뽑았습니다.\")\n",
    "\n",
    "#입력값을 처리하는 코드\n",
    "while True:\n",
    "    answer = []\n",
    "    print(\"세 수를 하나씩 차례대로 입력하세요\")\n",
    "    while True:\n",
    "        temp = int(input(\"1번째 수를 입력하세요.: \"))\n",
    "        if ((0 > temp) or (temp > 9)):\n",
    "            print('범위를 벗어나는 수 입니다. 다시 입력해주세요.')\n",
    "            continue\n",
    "        else:\n",
    "            answer.append(temp)\n",
    "            break\n",
    "    while True:\n",
    "        temp = int(input(\"2번째 수를 입력하세요.: \"))\n",
    "        if ((0 > temp) or (temp > 9)):\n",
    "            print('범위를 벗어나는 수 입니다. 다시 입력해주세요.')\n",
    "            continue\n",
    "        if((answer[0] == temp)):\n",
    "            print('중복되는 수 입니다. 다시 입력해주세요.')\n",
    "            continue\n",
    "        else:\n",
    "            answer.append(temp)\n",
    "            break\n",
    "    while True:    \n",
    "        temp = int(input(\"3번째 수를 입력하세요.: \"))\n",
    "        if ((0 > temp) or (temp > 9)):\n",
    "            print('범위를 벗어나는 수 입니다. 다시 입력해주세요.')\n",
    "            continue\n",
    "        if((answer[1] == temp) or (answer[0] == temp)):\n",
    "            print('중복되는 수 입니다. 다시 입력해주세요.')\n",
    "            continue\n",
    "        else:\n",
    "            answer.append(temp)\n",
    "            break\n",
    "    print(answer)\n",
    "    print(test)\n",
    "    \n",
    "    #Ball 과 Strike의 개수를 구하고 출력하는 곳\n",
    "    j = 0\n",
    "    strike = 0\n",
    "    ball = 0\n",
    "    while j < 3:\n",
    "        if test[j] == answer[j]:\n",
    "            strike += 1\n",
    "            j += 1\n",
    "        elif ((answer[j] == test[0]) or (answer[j] == test[1]) or (answer[j] == test[2])):\n",
    "            ball += 1\n",
    "            j += 1\n",
    "        else:\n",
    "            j += 1\n",
    "    print(\"%dS %dB\"%(strike,ball))\n",
    "    cnt += 1\n",
    "    if strike == 3:\n",
    "        break\n",
    "\n",
    "print(\"축하합니다. %d번만에 세 숫자의 값과 위치를 모두 맞추셨습니다.\"%cnt)"
   ]
  }
 ],
 "metadata": {
  "kernelspec": {
   "display_name": "Python 3",
   "language": "python",
   "name": "python3"
  },
  "language_info": {
   "codemirror_mode": {
    "name": "ipython",
    "version": 3
   },
   "file_extension": ".py",
   "mimetype": "text/x-python",
   "name": "python",
   "nbconvert_exporter": "python",
   "pygments_lexer": "ipython3",
   "version": "3.7.4"
  }
 },
 "nbformat": 4,
 "nbformat_minor": 2
}
