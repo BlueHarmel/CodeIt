{
 "cells": [
  {
   "cell_type": "code",
   "execution_count": 6,
   "metadata": {},
   "outputs": [
    {
     "name": "stdout",
     "output_type": "stream",
     "text": [
      "8\n",
      "9\n"
     ]
    }
   ],
   "source": [
    "from calculator import sum, square\n",
    "\n",
    "print(sum(3,5))\n",
    "print(square(3))"
   ]
  },
  {
   "cell_type": "code",
   "execution_count": 5,
   "metadata": {},
   "outputs": [
    {
     "name": "stdout",
     "output_type": "stream",
     "text": [
      "5\n",
      "0.29781830798293407\n"
     ]
    }
   ],
   "source": [
    "from random import randint, uniform\n",
    "\n",
    "print(randint(1,10))\n",
    "print(uniform(0,1))"
   ]
  },
  {
   "cell_type": "code",
   "execution_count": 7,
   "metadata": {},
   "outputs": [
    {
     "name": "stdout",
     "output_type": "stream",
     "text": [
      "이름을 입력하세요: 이영석\n",
      "Hello 이영석\n"
     ]
    }
   ],
   "source": [
    "name = input(\"이름을 입력하세요: \")\n",
    "print(\"Hello \" + name)"
   ]
  },
  {
   "cell_type": "code",
   "execution_count": 9,
   "metadata": {},
   "outputs": [
    {
     "name": "stdout",
     "output_type": "stream",
     "text": [
      "숫자를 입력하세요: \n",
      "<class 'str'>\n"
     ]
    }
   ],
   "source": [
    "x = input(\"숫자를 입력하세요: \")\n",
    "print(type(x))"
   ]
  },
  {
   "cell_type": "code",
   "execution_count": 3,
   "metadata": {},
   "outputs": [
    {
     "name": "stdout",
     "output_type": "stream",
     "text": [
      "Type a random number: 12.3\n",
      "<class 'float'>\n",
      "Your number is 12.3!\n",
      "12\n"
     ]
    }
   ],
   "source": [
    "num = float(input(\"Type a random number: \"))\n",
    "print(type(num))\n",
    "print(\"Your number is %s!\"% num)\n",
    "print(int(num))"
   ]
  },
  {
   "cell_type": "code",
   "execution_count": 9,
   "metadata": {},
   "outputs": [
    {
     "name": "stdout",
     "output_type": "stream",
     "text": [
      "기회가 4번 남았습니다. 1-20 사이의 숫자를 맞춰보세요: 10\n",
      "Down\n",
      "기회가 3번 남았습니다. 1-20 사이의 숫자를 맞춰보세요: 5\n",
      "Down\n",
      "기회가 2번 남았습니다. 1-20 사이의 숫자를 맞춰보세요: 3\n",
      "축하합니다. 3번만에 숫자를 맞추셨습니다.\n"
     ]
    }
   ],
   "source": [
    "from random import randint\n",
    "\n",
    "cnt = 4\n",
    "answer = randint(1,20)\n",
    "while cnt > 0:\n",
    "    try1 = int(input(\"기회가 %d번 남았습니다. 1-20 사이의 숫자를 맞춰보세요: \"%cnt))\n",
    "    if try1 == answer:\n",
    "        print(\"축하합니다. %d번만에 숫자를 맞추셨습니다.\"%(5 - cnt))\n",
    "        break\n",
    "    elif try1 < answer:\n",
    "        print(\"Up\")\n",
    "    elif try1 > answer:\n",
    "        print(\"Down\")\n",
    "    cnt -= 1\n",
    "\n",
    "if cnt == 0:\n",
    "    print(\"아쉽습니다. 정답은 %d였습니다.\"%answer)"
   ]
  }
 ],
 "metadata": {
  "kernelspec": {
   "display_name": "Python 3",
   "language": "python",
   "name": "python3"
  },
  "language_info": {
   "codemirror_mode": {
    "name": "ipython",
    "version": 3
   },
   "file_extension": ".py",
   "mimetype": "text/x-python",
   "name": "python",
   "nbconvert_exporter": "python",
   "pygments_lexer": "ipython3",
   "version": "3.7.4"
  }
 },
 "nbformat": 4,
 "nbformat_minor": 2
}
