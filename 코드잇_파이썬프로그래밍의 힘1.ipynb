{
 "cells": [
  {
   "cell_type": "code",
   "execution_count": 6,
   "metadata": {},
   "outputs": [
    {
     "name": "stdout",
     "output_type": "stream",
     "text": [
      "I can code too!\n",
      "I can code too!\n",
      "I can code too!\n"
     ]
    }
   ],
   "source": [
    "i = 1\n",
    "while i <= 3:\n",
    "    print(\"I can code too!\")\n",
    "    i += 1"
   ]
  },
  {
   "cell_type": "code",
   "execution_count": 4,
   "metadata": {},
   "outputs": [
    {
     "name": "stdout",
     "output_type": "stream",
     "text": [
      "자켓을 입지 않는다.\n"
     ]
    }
   ],
   "source": [
    "temperature = 11 #오늘의 온도\n",
    "\n",
    "if temperature <= 10:\n",
    "    print('자켓을 입는다.')\n",
    "else:\n",
    "    print('자켓을 입지 않는다.')"
   ]
  },
  {
   "cell_type": "code",
   "execution_count": 5,
   "metadata": {},
   "outputs": [
    {
     "name": "stdout",
     "output_type": "stream",
     "text": [
      "긴팔 + 자켓\n"
     ]
    }
   ],
   "source": [
    "temperature = 8 #오늘의 온도\n",
    "\n",
    "if temperature <= 5:\n",
    "    print('내복 + 긴팔 + 자켓')\n",
    "elif temperature <= 10:\n",
    "    print('긴팔 + 자켓')\n",
    "elif temperature <= 15:\n",
    "    print('긴팔')\n",
    "else:\n",
    "    print('반팔')"
   ]
  },
  {
   "cell_type": "code",
   "execution_count": null,
   "metadata": {},
   "outputs": [],
   "source": []
  }
 ],
 "metadata": {
  "kernelspec": {
   "display_name": "Python 3",
   "language": "python",
   "name": "python3"
  },
  "language_info": {
   "codemirror_mode": {
    "name": "ipython",
    "version": 3
   },
   "file_extension": ".py",
   "mimetype": "text/x-python",
   "name": "python",
   "nbconvert_exporter": "python",
   "pygments_lexer": "ipython3",
   "version": "3.7.4"
  }
 },
 "nbformat": 4,
 "nbformat_minor": 2
}
