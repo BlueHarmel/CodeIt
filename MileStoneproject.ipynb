{
 "cells": [
  {
   "cell_type": "code",
   "execution_count": 28,
   "metadata": {},
   "outputs": [
    {
     "name": "stdout",
     "output_type": "stream",
     "text": [
      "\t|\t|\t\n",
      "    X \t|   O \t|   X \t\n",
      "\t|\t|\t\n",
      " -------|-------|-------\n",
      "\t|\t|\t\n",
      "    O \t|   X \t|   O \t\n",
      "\t|\t|\t\n",
      " -------|-------|-------\n",
      "\t|\t|\t\n",
      "    X \t|   O \t|   X \t\n",
      "\t|\t|\t\n"
     ]
    }
   ],
   "source": [
    "def display_board(board):\n",
    "    '''\n",
    "    게임화면\n",
    "    '''\n",
    "    print('\\t|\\t|\\t\\n''   ',board[1],'\\t''|''  ',board[2],'\\t''|''  ',board[3],'\\t\\n\\t|\\t|\\t\\n -------|-------|-------\\n''\\t|\\t|\\t\\n''   ',board[4],'\\t''|''  ',board[5],'\\t''|''  ',board[6],'\\t\\n''\\t|\\t|\\t\\n'' -------|-------|-------\\n''\\t|\\t|\\t\\n''   ',board[7],'\\t''|''  ',board[8],'\\t''|''  ',board[9],'\\t\\n''\\t|\\t|\\t')\n",
    "    pass\n",
    "    \n",
    "test_board = ['#','X','O','X','O','X','O','X','O','X']\n",
    "display_board(test_board)"
   ]
  },
  {
   "cell_type": "code",
   "execution_count": null,
   "metadata": {},
   "outputs": [],
   "source": []
  }
 ],
 "metadata": {
  "kernelspec": {
   "display_name": "Python 3",
   "language": "python",
   "name": "python3"
  },
  "language_info": {
   "codemirror_mode": {
    "name": "ipython",
    "version": 3
   },
   "file_extension": ".py",
   "mimetype": "text/x-python",
   "name": "python",
   "nbconvert_exporter": "python",
   "pygments_lexer": "ipython3",
   "version": "3.7.4"
  }
 },
 "nbformat": 4,
 "nbformat_minor": 2
}
