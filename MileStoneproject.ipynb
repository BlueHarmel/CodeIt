{
 "cells": [
  {
   "cell_type": "code",
   "execution_count": 14,
   "metadata": {},
   "outputs": [
    {
     "name": "stdout",
     "output_type": "stream",
     "text": [
      "\t|\t|\t\n",
      "    X \t|   O \t|   X \t\n",
      "\t|\t|\t\n",
      " -------|-------|-------\n",
      "\t|\t|\t\n",
      "    O \t|   X \t|   O \t\n",
      "\t|\t|\t\n",
      " -------|-------|-------\n",
      "\t|\t|\t\n",
      "    X \t|   O \t|   X \t\n",
      "\t|\t|\t\n"
     ]
    }
   ],
   "source": [
    "def display_board(board):\n",
    "    '''\n",
    "    게임화면\n",
    "    '''\n",
    "    print('\\t|\\t|\\t\\n''   ',board[1],'\\t''|''  ',board[2],'\\t''|''  ',board[3],'\\t\\n\\t|\\t|\\t\\n -------|-------|-------\\n''\\t|\\t|\\t\\n''   ',board[4],'\\t''|''  ',board[5],'\\t''|''  ',board[6],'\\t\\n''\\t|\\t|\\t\\n'' -------|-------|-------\\n''\\t|\\t|\\t\\n''   ',board[7],'\\t''|''  ',board[8],'\\t''|''  ',board[9],'\\t\\n''\\t|\\t|\\t')\n",
    "    pass\n",
    "    \n",
    "test_board = ['#','X','O','X','O','X','O','X','O','X']\n",
    "display_board(test_board)"
   ]
  },
  {
   "cell_type": "code",
   "execution_count": 12,
   "metadata": {},
   "outputs": [
    {
     "name": "stdout",
     "output_type": "stream",
     "text": [
      "If you're player1 type 1. Else, type 2: 4\n",
      "4\n",
      "Wrong input. Type either 1 or 2: 4\n",
      "4\n",
      "Wrong input. Type either 1 or 2: 3\n",
      "3\n",
      "Wrong input. Type either 1 or 2: 2\n",
      "\n"
     ]
    }
   ],
   "source": [
    "def player_input():\n",
    "    symbol = int(input(\"If you're player1 type 1. Else, type 2: \"))\n",
    "    while(symbol != 1 and symbol != 2):\n",
    "        print(symbol)\n",
    "        symbol = int(input(\"Wrong input. Type either 1 or 2: \"))\n",
    "        if(symbol == 1 or symbol == 2):\n",
    "            break;\n",
    "    if symbol == 1:\n",
    "        player1 = \"X\"\n",
    "        player2 = \"O\"\n",
    "    if symbol == 2:\n",
    "        player1 = \"O\"\n",
    "        player2 = \"X\"\n",
    "    print()\n",
    "    pass\n",
    "\n",
    "player_input()"
   ]
  },
  {
   "cell_type": "code",
   "execution_count": 15,
   "metadata": {},
   "outputs": [
    {
     "name": "stdout",
     "output_type": "stream",
     "text": [
      "\t|\t|\t\n",
      "    X \t|   O \t|   X \t\n",
      "\t|\t|\t\n",
      " -------|-------|-------\n",
      "\t|\t|\t\n",
      "    O \t|   X \t|   O \t\n",
      "\t|\t|\t\n",
      " -------|-------|-------\n",
      "\t|\t|\t\n",
      "    X \t|   x \t|   X \t\n",
      "\t|\t|\t\n"
     ]
    }
   ],
   "source": [
    "def place_marker(board, marker, position):\n",
    "    board[position] = marker\n",
    "    pass\n",
    "\n",
    "place_marker(test_board,'x',8)\n",
    "display_board(test_board)"
   ]
  },
  {
   "cell_type": "code",
   "execution_count": 16,
   "metadata": {},
   "outputs": [
    {
     "data": {
      "text/plain": [
       "True"
      ]
     },
     "execution_count": 16,
     "metadata": {},
     "output_type": "execute_result"
    }
   ],
   "source": [
    "def win_check(board, mark):\n",
    "    if((board[1] == mark and board[2] == mark and board[3]) or\n",
    "    (board[1] == mark and board[5] == mark and board[9]) or\n",
    "    (board[1] == mark and board[4] == mark and board[7]) or\n",
    "    (board[2] == mark and board[5] == mark and board[8]) or\n",
    "    (board[3] == mark and board[5] == mark and board[7]) or\n",
    "    (board[3] == mark and board[6] == mark and board[9]) or\n",
    "    (board[4] == mark and board[5] == mark and board[6]) or\n",
    "    (board[7] == mark and board[8] == mark and board[9])):\n",
    "        return True\n",
    "    pass\n",
    "win_check(test_board,'X')"
   ]
  },
  {
   "cell_type": "code",
   "execution_count": null,
   "metadata": {},
   "outputs": [],
   "source": [
    "import random\n",
    "\n",
    "def choose_first():\n",
    "    random.randint()\n",
    "    pass"
   ]
  }
 ],
 "metadata": {
  "kernelspec": {
   "display_name": "Python 3",
   "language": "python",
   "name": "python3"
  }
 },
 "nbformat": 4,
 "nbformat_minor": 2
}
