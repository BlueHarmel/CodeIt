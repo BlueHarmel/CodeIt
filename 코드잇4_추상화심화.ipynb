{
 "cells": [
  {
   "cell_type": "code",
   "execution_count": 1,
   "metadata": {},
   "outputs": [
    {
     "name": "stdout",
     "output_type": "stream",
     "text": [
      "3\n",
      "8\n",
      "11\n"
     ]
    }
   ],
   "source": [
    "def f(x):\n",
    "    return x + 1\n",
    "\n",
    "def g(x):\n",
    "    return x * x - 1\n",
    "\n",
    "print(f(2))\n",
    "print(g(3))\n",
    "print(f(2) + g(3))"
   ]
  },
  {
   "cell_type": "code",
   "execution_count": 2,
   "metadata": {},
   "outputs": [
    {
     "name": "stdout",
     "output_type": "stream",
     "text": [
      "f 시작\n",
      "3\n",
      "g 시작\n",
      "8\n",
      "f 시작\n",
      "g 시작\n",
      "11\n"
     ]
    }
   ],
   "source": [
    "def f(x):\n",
    "    print(\"f 시작\")\n",
    "    return x + 1\n",
    "    print(\"f 끝\")#dead code\n",
    "\n",
    "def g(x):\n",
    "    print(\"g 시작\")\n",
    "    return x * x - 1\n",
    "    print(\"g 끝\") #dead code\n",
    "\n",
    "print(f(2))\n",
    "print(g(3))\n",
    "print(f(2) + g(3))"
   ]
  },
  {
   "cell_type": "code",
   "execution_count": 8,
   "metadata": {},
   "outputs": [
    {
     "name": "stdout",
     "output_type": "stream",
     "text": [
      "9\n",
      "9\n",
      "None\n"
     ]
    }
   ],
   "source": [
    "def print_square(x):\n",
    "    print(x * x)\n",
    "\n",
    "def get_square(x):\n",
    "    return x * x\n",
    "\n",
    "get_square(3)\n",
    "\n",
    "print(get_square(3))\n",
    "print(print_square(3))"
   ]
  },
  {
   "cell_type": "code",
   "execution_count": 13,
   "metadata": {},
   "outputs": [
    {
     "name": "stdout",
     "output_type": "stream",
     "text": [
      "1\n"
     ]
    }
   ],
   "source": [
    "def x_is_one():\n",
    "    global x\n",
    "    x = 1\n",
    "\n",
    "x = 5\n",
    "x_is_one()\n",
    "print(x)"
   ]
  },
  {
   "cell_type": "code",
   "execution_count": 14,
   "metadata": {},
   "outputs": [
    {
     "name": "stdout",
     "output_type": "stream",
     "text": [
      "반지름이 6.000000면 원 넓이는  113.040000\n",
      "반지름이 12.000000면 원 넓이는  0.000000\n"
     ]
    }
   ],
   "source": [
    "PI = 3.14\n",
    "\n",
    "def calculate_area(r):\n",
    "    return PI * r * r\n",
    "\n",
    "radius = 6\n",
    "print(\"반지름이 %f면 원 넓이는  %f\" %(radius,calculate_area(radius)))\n",
    "\n",
    "PI = 0\n",
    "radius = 12\n",
    "print(\"반지름이 %f면 원 넓이는  %f\" %(radius,calculate_area(radius)))"
   ]
  },
  {
   "cell_type": "code",
   "execution_count": 15,
   "metadata": {},
   "outputs": [
    {
     "name": "stdout",
     "output_type": "stream",
     "text": [
      "25.12\n"
     ]
    }
   ],
   "source": [
    "PI = 3.14\n",
    "r = 4 #r = radius\n",
    "\n",
    "print(PI * 2 * r)\n",
    "print(PI * r * r)\n",
    "print(PI * )"
   ]
  }
 ],
 "metadata": {
  "kernelspec": {
   "display_name": "Python 3",
   "language": "python",
   "name": "python3"
  },
  "language_info": {
   "codemirror_mode": {
    "name": "ipython",
    "version": 3
   },
   "file_extension": ".py",
   "mimetype": "text/x-python",
   "name": "python",
   "nbconvert_exporter": "python",
   "pygments_lexer": "ipython3",
   "version": "3.7.4"
  }
 },
 "nbformat": 4,
 "nbformat_minor": 2
}
